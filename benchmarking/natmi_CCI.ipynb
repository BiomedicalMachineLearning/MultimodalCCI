{
 "cells": [
  {
   "cell_type": "code",
   "execution_count": null,
   "metadata": {},
   "outputs": [],
   "source": [
    "import scanpy as sc\n",
    "import pandas as pd\n",
    "\n",
    "out_dir = '/scratch/project/stseq/Levi/mmcci/mmcci_benchmarking/'"
   ]
  },
  {
   "cell_type": "code",
   "execution_count": null,
   "metadata": {},
   "outputs": [],
   "source": [
    "data = sc.read_h5ad(out_dir + 'sample1.h5ad')\n",
    "counts = data.to_df()\n",
    "counts.index = [\"sample_\" + name for name in counts.index]\n",
    "counts.T.to_csv(out_dir+'sample1_em.csv',index=True,header=True)\n",
    "metadata = pd.DataFrame(data.obs['cell_type'])\n",
    "metadata.index = [\"sample_\" + name for name in metadata.index]\n",
    "metadata['_'] = metadata.index\n",
    "metadata = metadata.rename(columns={'cell_type': 'Annotation', '_': 'Cell'})\n",
    "metadata = metadata[['Cell', 'Annotation']]\n",
    "metadata.to_csv(out_dir+'sample1_metadata.csv', index=False, header=True)"
   ]
  },
  {
   "cell_type": "code",
   "execution_count": null,
   "metadata": {},
   "outputs": [],
   "source": [
    "data = sc.read_h5ad(out_dir + 'sample2.h5ad')\n",
    "counts = data.to_df()\n",
    "counts.index = [\"sample_\" + name for name in counts.index]\n",
    "counts.T.to_csv(out_dir+'sample2_em.csv',index=True,header=True)\n",
    "metadata = pd.DataFrame(data.obs['cell_type'])\n",
    "metadata.index = [\"sample_\" + name for name in metadata.index]\n",
    "metadata['_'] = metadata.index\n",
    "metadata = metadata.rename(columns={'cell_type': 'Annotation', '_': 'Cell'})\n",
    "metadata = metadata[['Cell', 'Annotation']]\n",
    "metadata.to_csv(out_dir+'sample2_metadata.csv', index=False, header=True)"
   ]
  },
  {
   "cell_type": "code",
   "execution_count": null,
   "metadata": {},
   "outputs": [],
   "source": [
    "data = sc.read_h5ad(out_dir + 'sample3.h5ad')\n",
    "counts = data.to_df()\n",
    "counts.index = [\"sample_\" + name for name in counts.index]\n",
    "counts.T.to_csv(out_dir+'sample3_em.csv',index=True,header=True)\n",
    "metadata = pd.DataFrame(data.obs['cell_type'])\n",
    "metadata.index = [\"sample_\" + name for name in metadata.index]\n",
    "metadata['_'] = metadata.index\n",
    "metadata = metadata.rename(columns={'cell_type': 'Annotation', '_': 'Cell'})\n",
    "metadata = metadata[['Cell', 'Annotation']]\n",
    "metadata.to_csv(out_dir+'sample3_metadata.csv', index=False, header=True)"
   ]
  },
  {
   "cell_type": "code",
   "execution_count": null,
   "metadata": {
    "vscode": {
     "languageId": "shellscript"
    }
   },
   "outputs": [],
   "source": [
    "python ExtractEdges.py --emFile /scratch/project/stseq/Levi/mmcci_benchmarking/sample1_em.csv --annFile /scratch/project/stseq/Levi/mmcci_benchmarking/sample1_metadata.csv --interDB lrc2p --coreNum 4\n",
    "python ExtractEdges.py --emFile /scratch/project/stseq/Levi/mmcci_benchmarking/sample2_em.csv --annFile /scratch/project/stseq/Levi/mmcci_benchmarking/sample2_metadata.csv --interDB lrc2p --coreNum 4\n",
    "python ExtractEdges.py --emFile /scratch/project/stseq/Levi/mmcci_benchmarking/sample3_em.csv --annFile /scratch/project/stseq/Levi/mmcci_benchmarking/sample3_metadata.csv --interDB lrc2p --coreNum 4"
   ]
  }
 ],
 "metadata": {
  "kernelspec": {
   "display_name": "Python 3",
   "language": "python",
   "name": "python3"
  },
  "language_info": {
   "codemirror_mode": {
    "name": "ipython",
    "version": 3
   },
   "file_extension": ".py",
   "mimetype": "text/x-python",
   "name": "python",
   "nbconvert_exporter": "python",
   "pygments_lexer": "ipython3",
   "version": "3.7.6"
  }
 },
 "nbformat": 4,
 "nbformat_minor": 2
}
