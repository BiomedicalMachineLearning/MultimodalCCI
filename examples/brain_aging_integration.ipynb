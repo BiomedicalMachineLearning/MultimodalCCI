{
 "cells": [
  {
   "cell_type": "code",
   "execution_count": 1,
   "id": "89634aac-f63c-4f8a-b4fe-3ffd71d6d64e",
   "metadata": {},
   "outputs": [],
   "source": [
    "import multimodal_cci as mmcci\n",
    "import scanpy as sc\n",
    "import numpy as np"
   ]
  },
  {
   "cell_type": "markdown",
   "id": "f3e7940c-983e-488b-b63d-0ea272e040e5",
   "metadata": {},
   "source": [
    "#### Load stLearn data objects"
   ]
  },
  {
   "cell_type": "code",
   "execution_count": 2,
   "id": "9fc16cf8-6b0b-4d0f-bd39-a1c1faa9b039",
   "metadata": {
    "scrolled": true
   },
   "outputs": [],
   "source": [
    "brain_aged_tech1 = [sc.read_h5ad(\"/QRISdata/Q5058/sMACS/Visium/Processed/Brain/CCI/VLP40_1C_CCI.h5ad\"),\n",
    "                sc.read_h5ad(\"/QRISdata/Q5058/sMACS/Visium/Processed/Brain/CCI/VLP40_1D_CCI.h5ad\"),\n",
    "                sc.read_h5ad(\"/QRISdata/Q5058/sMACS/Visium/Processed/Brain/CCI/VLP41_1B_CCI.h5ad\"),\n",
    "                sc.read_h5ad(\"/QRISdata/Q5058/sMACS/Visium/Processed/Brain/CCI/VLP41_1D_CCI.h5ad\")]\n",
    "\n",
    "brain_young_tech1 = [sc.read_h5ad(\"/QRISdata/Q5058/sMACS/Visium/Processed/Brain/CCI/VLP40_1A_CCI.h5ad\"),\n",
    "               sc.read_h5ad(\"/QRISdata/Q5058/sMACS/Visium/Processed/Brain/CCI/VLP40_1B_CCI.h5ad\"),\n",
    "               sc.read_h5ad(\"/QRISdata/Q5058/sMACS/Visium/Processed/Brain/CCI/VLP41_1A_CCI.h5ad\"),\n",
    "               sc.read_h5ad(\"/QRISdata/Q5058/sMACS/Visium/Processed/Brain/CCI/VLP41_1C_CCI.h5ad\")]\n",
    "\n",
    "brain_aged_tech2 = [sc.read_h5ad(\"/QRISdata/Q5058/sMACS/STomics/Processed/Brain/CCI_new/brain_A1_CCI_bin80.h5ad\"),\n",
    "               sc.read_h5ad(\"/QRISdata/Q5058/sMACS/STomics/Processed/Brain/CCI_new/brain_A4_CCI_bin80.h5ad\")]\n",
    "brain_young_tech2 = [sc.read_h5ad(\"/QRISdata/Q5058/sMACS/STomics/Processed/Brain/CCI_new/brain_Y1_CCI_bin80.h5ad\"),\n",
    "               sc.read_h5ad(\"/QRISdata/Q5058/sMACS/STomics/Processed/Brain/CCI_new/brain_Y4_CCI_bin80.h5ad\")]\n",
    "\n",
    "brain_aged_tech1_cci = [sample.uns['per_lr_cci_cell_type'] for sample in brain_aged_tech1]\n",
    "brain_young_tech1_cci = [sample.uns['per_lr_cci_cell_type'] for sample in brain_young_tech1]\n",
    "brain_aged_tech2_cci = [sample.uns['per_lr_cci_cell_type'] for sample in brain_aged_tech2]\n",
    "brain_young_tech2_cci = [sample.uns['per_lr_cci_cell_type'] for sample in brain_young_tech2]\n",
    "\n",
    "brain_aged_tech1_sizes = [sample.shape[0] for sample in brain_aged_tech1]\n",
    "brain_young_tech1_sizes = [sample.shape[0] for sample in brain_young_tech1]\n",
    "brain_aged_tech2_sizes = [sample.shape[0] for sample in brain_aged_tech2]\n",
    "brain_young_tech2_sizes = [sample.shape[0] for sample in brain_young_tech2]"
   ]
  },
  {
   "cell_type": "markdown",
   "id": "db752e21-ee1b-44fe-ab8c-dbe141006b2f",
   "metadata": {},
   "source": [
    "#### Normalise each group of samples"
   ]
  },
  {
   "cell_type": "code",
   "execution_count": 3,
   "id": "6dc0fde1-94ca-4e64-a617-b37fbafcd642",
   "metadata": {},
   "outputs": [],
   "source": [
    "brain_aged_tech1_normalised = mmcci.it.normalise_samples_to_target(brain_aged_tech1_cci, brain_aged_tech1_sizes, target=brain_young_tech1_sizes[0])\n",
    "brain_young_tech1_normalised = mmcci.it.normalise_samples_to_target(brain_young_tech1_cci, brain_young_tech1_sizes, target=brain_young_tech1_sizes[0])\n",
    "brain_aged_tech2_normalised = mmcci.it.normalise_samples_to_target(brain_aged_tech2_cci, brain_aged_tech2_sizes, target=brain_young_tech2_sizes[0])\n",
    "brain_young_tech2_normalised = mmcci.it.normalise_samples_to_target(brain_young_tech2_cci, brain_young_tech2_sizes, target=brain_young_tech2_sizes[0])"
   ]
  },
  {
   "cell_type": "markdown",
   "id": "62574a0e-0aeb-4d6b-9f14-dc86bad05c50",
   "metadata": {},
   "source": [
    "#### Subset to only LR pairs present in majority of samples"
   ]
  },
  {
   "cell_type": "code",
   "execution_count": 4,
   "id": "e130c979-20ac-48c3-a453-5f169450e68b",
   "metadata": {},
   "outputs": [],
   "source": [
    "aged_lr_pairs = mmcci.it.get_majority_lr_pairs(brain_aged_tech1_normalised + brain_aged_tech2_normalised)\n",
    "young_lr_pairs = mmcci.it.get_majority_lr_pairs(brain_young_tech1_normalised + brain_young_tech2_normalised)\n",
    "\n",
    "all_lr_pairs = aged_lr_pairs + young_lr_pairs"
   ]
  },
  {
   "cell_type": "markdown",
   "id": "ea9464b1-768c-4136-a556-d7fb9e2df024",
   "metadata": {},
   "source": [
    "#### Calculate average value of each LR pair across each group"
   ]
  },
  {
   "cell_type": "code",
   "execution_count": 5,
   "id": "789d08f9-25b6-45c9-9f2b-9ed40b505b81",
   "metadata": {},
   "outputs": [],
   "source": [
    "brain_aged_tech1_avg = mmcci.it.get_avg_lr_pairs(brain_aged_tech1_normalised, all_lr_pairs)\n",
    "brain_young_tech1_avg = mmcci.it.get_avg_lr_pairs(brain_young_tech1_normalised, all_lr_pairs)\n",
    "brain_aged_tech2_avg = mmcci.it.get_avg_lr_pairs(brain_aged_tech2_normalised, all_lr_pairs)\n",
    "brain_young_tech2_avg = mmcci.it.get_avg_lr_pairs(brain_young_tech2_normalised, all_lr_pairs)"
   ]
  },
  {
   "cell_type": "markdown",
   "id": "4f28637d-8b0d-45cb-836d-8469a92bdcd2",
   "metadata": {},
   "source": [
    "#### Normalise samples between technologies"
   ]
  },
  {
   "cell_type": "code",
   "execution_count": 6,
   "id": "176347fd-7111-4632-930f-c5b7b687a756",
   "metadata": {},
   "outputs": [],
   "source": [
    "normalised = mmcci.it.normalise_samples_between_tech(\n",
    "    [[brain_aged_tech1_avg, brain_young_tech1_avg],\n",
    "     [brain_aged_tech2_avg, brain_young_tech2_avg]]\n",
    "    )"
   ]
  },
  {
   "cell_type": "markdown",
   "id": "611ce360-3c37-45d9-b018-9c732d4867c1",
   "metadata": {},
   "source": [
    "#### Integrate between technologies for both groups"
   ]
  },
  {
   "cell_type": "code",
   "execution_count": 7,
   "id": "4acb7004-e2d7-44e8-80dd-dbfc24e7d0e3",
   "metadata": {},
   "outputs": [],
   "source": [
    "normalised = np.array(normalised).T.tolist() # Transpose to get lists of groups instead of techs\n",
    "aged_integrated = mmcci.it.integrate_between_tech(normalised[0])\n",
    "young_integrated = mmcci.it.integrate_between_tech(normalised[1])"
   ]
  },
  {
   "cell_type": "markdown",
   "id": "08ad823f-61a6-42ce-ac41-9cee95721883",
   "metadata": {},
   "source": [
    "#### Calculate overall interactions network per group"
   ]
  },
  {
   "cell_type": "code",
   "execution_count": 8,
   "id": "b006ef39-18b8-4df8-a042-f11a840f2d71",
   "metadata": {},
   "outputs": [],
   "source": [
    "aged_overall = mmcci.it.calculate_overall_interactions(aged_integrated)\n",
    "young_overall = mmcci.it.calculate_overall_interactions(young_integrated)"
   ]
  },
  {
   "cell_type": "markdown",
   "id": "899511dc-ebd0-4eb6-ae58-f954635cecbd",
   "metadata": {},
   "source": [
    "#### Rank LR pairs based on dissimilarity between groups"
   ]
  },
  {
   "cell_type": "code",
   "execution_count": 9,
   "id": "2cdda303-c94b-4678-a6b6-8bbc51c2cf5a",
   "metadata": {},
   "outputs": [
    {
     "ename": "AttributeError",
     "evalue": "'numpy.float64' object has no attribute 'fillna'",
     "output_type": "error",
     "traceback": [
      "\u001b[0;31m---------------------------------------------------------------------------\u001b[0m",
      "\u001b[0;31mAttributeError\u001b[0m                            Traceback (most recent call last)",
      "Cell \u001b[0;32mIn[9], line 1\u001b[0m\n\u001b[0;32m----> 1\u001b[0m dissimilarity_scores \u001b[38;5;241m=\u001b[39m \u001b[43mmmcci\u001b[49m\u001b[38;5;241;43m.\u001b[39;49m\u001b[43mit\u001b[49m\u001b[38;5;241;43m.\u001b[39;49m\u001b[43mcalculate_dissim\u001b[49m\u001b[43m(\u001b[49m\u001b[43maged_integrated\u001b[49m\u001b[43m,\u001b[49m\u001b[43m \u001b[49m\u001b[43myoung_integrated\u001b[49m\u001b[43m)\u001b[49m\n\u001b[1;32m      2\u001b[0m mmcci\u001b[38;5;241m.\u001b[39mplt\u001b[38;5;241m.\u001b[39mdissim_hist(dissimilarity_scores)\n\u001b[1;32m      4\u001b[0m \u001b[38;5;66;03m## Sort LR Pairs from high to low dissimilarities\u001b[39;00m\n",
      "File \u001b[0;32m~/micromamba/envs/py-env/lib/python3.9/site-packages/multimodal_cci/integration.py:248\u001b[0m, in \u001b[0;36mcalculate_dissim\u001b[0;34m(sample1, sample2)\u001b[0m\n\u001b[1;32m    246\u001b[0m dissims \u001b[38;5;241m=\u001b[39m {}\n\u001b[1;32m    247\u001b[0m \u001b[38;5;28;01mfor\u001b[39;00m lr \u001b[38;5;129;01min\u001b[39;00m \u001b[38;5;28mset\u001b[39m(sample1\u001b[38;5;241m.\u001b[39mkeys())\u001b[38;5;241m.\u001b[39mintersection(\u001b[38;5;28mset\u001b[39m(sample2\u001b[38;5;241m.\u001b[39mkeys())):\n\u001b[0;32m--> 248\u001b[0m     dissims[lr] \u001b[38;5;241m=\u001b[39m \u001b[43msc\u001b[49m\u001b[38;5;241;43m.\u001b[39;49m\u001b[43mdissimilarity_score\u001b[49m\u001b[43m(\u001b[49m\u001b[43msample1\u001b[49m\u001b[43m[\u001b[49m\u001b[43mlr\u001b[49m\u001b[43m]\u001b[49m\u001b[43m,\u001b[49m\u001b[43m \u001b[49m\u001b[43msample2\u001b[49m\u001b[43m[\u001b[49m\u001b[43mlr\u001b[49m\u001b[43m]\u001b[49m\u001b[43m)\u001b[49m\n\u001b[1;32m    250\u001b[0m \u001b[38;5;28;01mreturn\u001b[39;00m dissims\n",
      "File \u001b[0;32m~/micromamba/envs/py-env/lib/python3.9/site-packages/multimodal_cci/scoring.py:87\u001b[0m, in \u001b[0;36mdissimilarity_score\u001b[0;34m(m1, m2, lmbda, normalise, binary, trim, only_non_zero)\u001b[0m\n\u001b[1;32m     85\u001b[0m norm_weight_difference_sum \u001b[38;5;241m=\u001b[39m np\u001b[38;5;241m.\u001b[39msum(np\u001b[38;5;241m.\u001b[39msum(norm_weight_difference))\n\u001b[1;32m     86\u001b[0m wt_dissim \u001b[38;5;241m=\u001b[39m lmbda \u001b[38;5;241m*\u001b[39m (norm_weight_difference_sum \u001b[38;5;241m/\u001b[39m n_of_edges)\n\u001b[0;32m---> 87\u001b[0m wt_dissim \u001b[38;5;241m=\u001b[39m \u001b[43mwt_dissim\u001b[49m\u001b[38;5;241;43m.\u001b[39;49m\u001b[43mfillna\u001b[49m(\u001b[38;5;241m0\u001b[39m)\n\u001b[1;32m     89\u001b[0m n_diff \u001b[38;5;241m=\u001b[39m np\u001b[38;5;241m.\u001b[39mwhere(abs_weight_difference \u001b[38;5;241m>\u001b[39m \u001b[38;5;241m0\u001b[39m, \u001b[38;5;241m1\u001b[39m, \u001b[38;5;241m0\u001b[39m)\u001b[38;5;241m.\u001b[39msum()\u001b[38;5;241m.\u001b[39msum()\n\u001b[1;32m     90\u001b[0m bin_dissim \u001b[38;5;241m=\u001b[39m (\u001b[38;5;241m1\u001b[39m \u001b[38;5;241m-\u001b[39m lmbda) \u001b[38;5;241m*\u001b[39m (n_diff \u001b[38;5;241m/\u001b[39m n_of_edges)\n",
      "\u001b[0;31mAttributeError\u001b[0m: 'numpy.float64' object has no attribute 'fillna'"
     ]
    }
   ],
   "source": [
    "dissimilarity_scores = mmcci.it.calculate_dissim(aged_integrated, young_integrated)\n",
    "mmcci.plt.dissim_hist(dissimilarity_scores)\n",
    "    \n",
    "## Sort LR Pairs from high to low dissimilarities\n",
    "print(\"Overall Network Aged vs Young Dissimilarity Score is: \" + str(mmcci.sc.dissimilarity_score(aged_overall, young_overall)))\n",
    "\n",
    "sorted_pairs = sorted(dissimilarity_scores, key=dissimilarity_scores.get, reverse=True)\n",
    "print(\"\\nTop 10 Dissimilar LR Pairs:\", sorted_pairs[:10])"
   ]
  },
  {
   "cell_type": "markdown",
   "id": "941e9ae7-cda4-4f78-97b1-4313ff7eaa38",
   "metadata": {},
   "source": [
    "#### Plot highly dissimilar pairs between groups"
   ]
  },
  {
   "cell_type": "code",
   "execution_count": null,
   "id": "5bcaf65c-882a-4a32-b913-943bf8a00854",
   "metadata": {},
   "outputs": [],
   "source": [
    "mmcci.plt.network_plot(aged_integrated['A2m_Lrp1'])\n",
    "mmcci.plt.network_plot(young_integrated['A2m_Lrp1'])"
   ]
  },
  {
   "cell_type": "markdown",
   "id": "c7d04e5c-dcc3-4ff0-a4a3-072d88ef063a",
   "metadata": {},
   "source": [
    "#### Calculate p values for significance changes between groups"
   ]
  },
  {
   "cell_type": "code",
   "execution_count": null,
   "id": "edb95a3f-9207-477f-aa97-f4dde59d82c4",
   "metadata": {},
   "outputs": [],
   "source": [
    "p_values = mmcci.sc.perm_test(aged_overall, young_overall)\n",
    "p_values"
   ]
  },
  {
   "cell_type": "markdown",
   "id": "b3c213b8-42e2-4be7-9f3b-4d81c4e75754",
   "metadata": {},
   "source": [
    "#### Plot aged and young overall networks"
   ]
  },
  {
   "cell_type": "code",
   "execution_count": null,
   "id": "be27f1f4-6fa4-4904-aa32-648c5bb584ba",
   "metadata": {},
   "outputs": [],
   "source": [
    "mmcci.plt.network_plot(aged_overall, p_values)\n",
    "mmcci.plt.network_plot(young_overall, p_values)"
   ]
  },
  {
   "cell_type": "markdown",
   "id": "183f0a6e-e418-47f3-8132-7e3c23c3b8e1",
   "metadata": {},
   "source": [
    "#### Get LR pairs from Vascular to Astrocytes"
   ]
  },
  {
   "cell_type": "code",
   "execution_count": null,
   "id": "8b139d33-d4e8-4549-b939-c347afdbd7d2",
   "metadata": {
    "scrolled": true
   },
   "outputs": [],
   "source": [
    "vasc_astr_lrs = mmcci.it.get_lrs_per_celltype([aged_integrated, young_integrated], \"Vascular\", \"Astrocytes\")\n",
    "print(\"LR pairs from vascular to astrocytes in aged\")\n",
    "print(vasc_astr_lrs['sample1'])\n",
    "print(\"\\nLR pairs from vascular to astrocytes in young\")\n",
    "print(vasc_astr_lrs['sample2'])"
   ]
  },
  {
   "cell_type": "markdown",
   "id": "f883bfa2-2e54-4627-92cd-4919aaf5a008",
   "metadata": {},
   "source": [
    "#### Cluster aged and young lr pairs"
   ]
  },
  {
   "cell_type": "code",
   "execution_count": null,
   "id": "dd57cce3-289d-4395-ac7a-c579db7b9748",
   "metadata": {},
   "outputs": [],
   "source": [
    "aged_clusters = mmcci.it.lr_clustering(aged_integrated, n_clusters=0)\n",
    "aged_integrated_clusters = mmcci.it.subset_clusters(aged_integrated, aged_clusters)\n",
    "aged_overall_clusters = mmcci.it.calculate_cluster_interactions(aged_integrated_clusters)"
   ]
  },
  {
   "cell_type": "code",
   "execution_count": null,
   "id": "bc9182c7-cdfa-4212-ad32-82a52aa2e71e",
   "metadata": {
    "scrolled": true
   },
   "outputs": [],
   "source": [
    "for cluster, matrix in aged_overall_clusters.items():\n",
    "    print(\"\\ncluster\" + str(cluster) + \": Contains \" + str(len(aged_integrated_clusters[cluster])) + \" LR pairs\")\n",
    "    mmcci.plt.network_plot(matrix)"
   ]
  },
  {
   "cell_type": "code",
   "execution_count": null,
   "id": "bdea85a8-835c-458a-8f88-cf984747f946",
   "metadata": {},
   "outputs": [],
   "source": [
    "young_clusters = mmcci.it.lr_clustering(young_integrated, n_clusters=0)\n",
    "young_integrated_clusters = mmcci.it.subset_clusters(young_integrated, young_clusters)\n",
    "young_overall_clusters = mmcci.it.calculate_cluster_interactions(young_integrated_clusters)"
   ]
  },
  {
   "cell_type": "code",
   "execution_count": null,
   "id": "88bc3fe8-18ed-4a70-808e-00e1e148c4e6",
   "metadata": {
    "scrolled": true
   },
   "outputs": [],
   "source": [
    "for cluster, matrix in young_overall_clusters.items():\n",
    "    if matrix is not None:\n",
    "        print(\"\\ncluster\" + str(cluster) + \": Contains \" + str(len(young_integrated_clusters[cluster])) + \" LR pairs\")\n",
    "        mmcci.plt.network_plot(matrix)"
   ]
  },
  {
   "cell_type": "code",
   "execution_count": null,
   "id": "a8f8667c-6672-433f-8f4c-56b01070b012",
   "metadata": {},
   "outputs": [],
   "source": []
  },
  {
   "cell_type": "code",
   "execution_count": null,
   "id": "6309dd2a-da5a-4bb6-b275-71eae334eed1",
   "metadata": {},
   "outputs": [],
   "source": [
    "import os\n",
    "import pandas as pd\n",
    "\n",
    "def load_csv_files(directory):\n",
    "    dataframes = {}\n",
    "\n",
    "    # List all CSV files in the directory\n",
    "    csv_files = [f for f in os.listdir(directory) if f.endswith('.csv')]\n",
    "\n",
    "    for csv_file in csv_files:\n",
    "        # Extract the key (file name without .csv extension)\n",
    "        key = os.path.splitext(csv_file)[0]\n",
    "\n",
    "        # Construct the full path to the CSV file\n",
    "        file_path = os.path.join(directory, csv_file)\n",
    "\n",
    "        # Read the CSV file into a pandas DataFrame\n",
    "        dataframe = pd.read_csv(file_path, index_col=0)\n",
    "\n",
    "        # Store the DataFrame in the dictionary with the key\n",
    "        dataframes[key] = dataframe\n",
    "\n",
    "    return dataframes\n",
    "\n",
    "\n",
    "def transform_dataframe(original_dict):\n",
    "    \"\"\"Transforms a dictionary of DataFrames to the desired format.\n",
    "\n",
    "    Args:\n",
    "    original_dict: A dictionary where keys are strings and values are DataFrames.\n",
    "\n",
    "    Returns:\n",
    "    A dictionary where keys are formatted as 'ligand_receptor' and values are\n",
    "    DataFrames with 'celltype' as columns and 'celltype1', 'celltype2' as indices.\n",
    "    \"\"\"\n",
    "\n",
    "    transformed_dict = {}\n",
    "\n",
    "    # Get all unique ligands and receptors across all DataFrames\n",
    "    all_ligands = set()\n",
    "    all_receptors = set()\n",
    "    all_cell_types = set()\n",
    "\n",
    "    for key, df in original_dict.items():\n",
    "        for index in df.index:\n",
    "            all_ligands.add(index)\n",
    "        for column in df.columns:\n",
    "            all_receptors.add(column)\n",
    "        all_cell_types.update(key.split(\"_\"))\n",
    "\n",
    "    # Initialize the transformed dictionary with zero-filled DataFrames\n",
    "    for ligand in all_ligands:\n",
    "        for receptor in all_receptors:\n",
    "            transformed_dict[f\"{ligand}_{receptor}\"] = pd.DataFrame(0, index=list(all_cell_types), columns=list(all_cell_types), dtype=\"float\")\n",
    "\n",
    "    # Update the values in the transformed dictionary\n",
    "    for key, df in original_dict.items():\n",
    "        celltype1, celltype2 = key.split(\"_\")\n",
    "\n",
    "        for ligand in df.index:\n",
    "            for receptor in df.columns:\n",
    "                ligand_receptor = f\"{ligand}_{receptor}\"\n",
    "                transformed_dict[ligand_receptor].loc[celltype1, celltype2] = df.loc[ligand, receptor]\n",
    "\n",
    "    non_zero_transformed_dict = {}\n",
    "    for key, df in transformed_dict.items():\n",
    "        if df.sum().sum() > 0:\n",
    "            non_zero_transformed_dict[key] = df\n",
    "            \n",
    "    return non_zero_transformed_dict\n",
    "\n",
    "# Replace 'your_directory_path' with the path to your CSV files directory\n",
    "csv_path = \"/home/uqlhocke/nichenet_files/\"\n",
    "result_dict = transform_dataframe(load_csv_files(csv_path))"
   ]
  },
  {
   "cell_type": "code",
   "execution_count": null,
   "id": "b53c8ad9-e868-43f2-af27-67de889aad3a",
   "metadata": {
    "scrolled": true
   },
   "outputs": [],
   "source": [
    "result_dict"
   ]
  },
  {
   "cell_type": "code",
   "execution_count": null,
   "id": "2ca142f0-1dbf-46a1-b67c-14cfb0da6d78",
   "metadata": {},
   "outputs": [],
   "source": []
  }
 ],
 "metadata": {
  "kernelspec": {
   "display_name": "Python 3 (ipykernel)",
   "language": "python",
   "name": "python3"
  },
  "language_info": {
   "codemirror_mode": {
    "name": "ipython",
    "version": 3
   },
   "file_extension": ".py",
   "mimetype": "text/x-python",
   "name": "python",
   "nbconvert_exporter": "python",
   "pygments_lexer": "ipython3",
   "version": "3.9.12"
  }
 },
 "nbformat": 4,
 "nbformat_minor": 5
}
