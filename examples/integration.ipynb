{
 "cells": [
  {
   "cell_type": "code",
   "execution_count": 1,
   "id": "89634aac-f63c-4f8a-b4fe-3ffd71d6d64e",
   "metadata": {},
   "outputs": [],
   "source": [
    "import multimodal_cci as mmcci\n",
    "import scanpy as sc\n",
    "import numpy as np"
   ]
  },
  {
   "cell_type": "markdown",
   "id": "f3e7940c-983e-488b-b63d-0ea272e040e5",
   "metadata": {},
   "source": [
    "#### Load stLearn data objects"
   ]
  },
  {
   "cell_type": "code",
   "execution_count": null,
   "id": "9fc16cf8-6b0b-4d0f-bd39-a1c1faa9b039",
   "metadata": {
    "scrolled": true
   },
   "outputs": [],
   "source": [
    "brain_a_vis = [sc.read_h5ad(\"/QRISdata/Q5058/sMACS/Visium/Processed/Brain/CCI/VLP40_1C_CCI.h5ad\"),\n",
    "                sc.read_h5ad(\"/QRISdata/Q5058/sMACS/Visium/Processed/Brain/CCI/VLP40_1D_CCI.h5ad\"),\n",
    "                sc.read_h5ad(\"/QRISdata/Q5058/sMACS/Visium/Processed/Brain/CCI/VLP41_1B_CCI.h5ad\"),\n",
    "                sc.read_h5ad(\"/QRISdata/Q5058/sMACS/Visium/Processed/Brain/CCI/VLP41_1D_CCI.h5ad\")]\n",
    "brain_y_vis = [sc.read_h5ad(\"/QRISdata/Q5058/sMACS/Visium/Processed/Brain/CCI/VLP40_1A_CCI.h5ad\"),\n",
    "               sc.read_h5ad(\"/QRISdata/Q5058/sMACS/Visium/Processed/Brain/CCI/VLP40_1B_CCI.h5ad\"),\n",
    "               sc.read_h5ad(\"/QRISdata/Q5058/sMACS/Visium/Processed/Brain/CCI/VLP41_1A_CCI.h5ad\"),\n",
    "               sc.read_h5ad(\"/QRISdata/Q5058/sMACS/Visium/Processed/Brain/CCI/VLP41_1C_CCI.h5ad\")]\n",
    "\n",
    "brain_a_sto = [sc.read_h5ad(\"/QRISdata/Q5058/sMACS/STomics/Processed/Brain/CCI_new/brain_A1_CCI_bin80.h5ad\"),\n",
    "               sc.read_h5ad(\"/QRISdata/Q5058/sMACS/STomics/Processed/Brain/CCI_new/brain_A4_CCI_bin80.h5ad\")]\n",
    "brain_y_sto = [sc.read_h5ad(\"/QRISdata/Q5058/sMACS/STomics/Processed/Brain/CCI_new/brain_Y1_CCI_bin80.h5ad\"),\n",
    "               sc.read_h5ad(\"/QRISdata/Q5058/sMACS/STomics/Processed/Brain/CCI_new/brain_Y4_CCI_bin80.h5ad\")]"
   ]
  },
  {
   "cell_type": "markdown",
   "id": "db752e21-ee1b-44fe-ab8c-dbe141006b2f",
   "metadata": {},
   "source": [
    "#### Normalise each group of samples"
   ]
  },
  {
   "cell_type": "code",
   "execution_count": null,
   "id": "6dc0fde1-94ca-4e64-a617-b37fbafcd642",
   "metadata": {},
   "outputs": [],
   "source": [
    "brain_a_vis_normalised = mmcci.it.normalise_samples_to_target(brain_a_vis, target=brain_y_vis[0])\n",
    "brain_y_vis_normalised = mmcci.it.normalise_samples_to_target(brain_y_vis, target=brain_y_vis[0])\n",
    "brain_a_sto_normalised = mmcci.it.normalise_samples_to_target(brain_a_sto, target=brain_y_sto[0])\n",
    "brain_y_sto_normalised = mmcci.it.normalise_samples_to_target(brain_y_sto, target=brain_y_sto[0])"
   ]
  },
  {
   "cell_type": "markdown",
   "id": "62574a0e-0aeb-4d6b-9f14-dc86bad05c50",
   "metadata": {},
   "source": [
    "#### Subset to only LR pairs present in majority of samples"
   ]
  },
  {
   "cell_type": "code",
   "execution_count": null,
   "id": "e130c979-20ac-48c3-a453-5f169450e68b",
   "metadata": {},
   "outputs": [],
   "source": [
    "aged_lr_pairs = mmcci.it.get_majority_lr_pairs(brain_a_vis_normalised + brain_a_sto_normalised)\n",
    "young_lr_pairs = mmcci.it.get_majority_lr_pairs(brain_y_vis_normalised + brain_y_sto_normalised)\n",
    "\n",
    "all_lr_pairs = aged_lr_pairs + young_lr_pairs"
   ]
  },
  {
   "cell_type": "markdown",
   "id": "ea9464b1-768c-4136-a556-d7fb9e2df024",
   "metadata": {},
   "source": [
    "#### Calculate average value of each LR pair across each group"
   ]
  },
  {
   "cell_type": "code",
   "execution_count": null,
   "id": "789d08f9-25b6-45c9-9f2b-9ed40b505b81",
   "metadata": {},
   "outputs": [],
   "source": [
    "brain_a_vis_avg = mmcci.it.get_avg_lr_pairs(brain_a_vis, all_lr_pairs)\n",
    "brain_y_vis_avg = mmcci.it.get_avg_lr_pairs(brain_y_vis, all_lr_pairs)\n",
    "brain_a_sto_avg = mmcci.it.get_avg_lr_pairs(brain_a_sto, all_lr_pairs)\n",
    "brain_y_sto_avg = mmcci.it.get_avg_lr_pairs(brain_y_sto, all_lr_pairs)"
   ]
  },
  {
   "cell_type": "markdown",
   "id": "4f28637d-8b0d-45cb-836d-8469a92bdcd2",
   "metadata": {},
   "source": [
    "#### Normalise samples between technologies"
   ]
  },
  {
   "cell_type": "code",
   "execution_count": null,
   "id": "176347fd-7111-4632-930f-c5b7b687a756",
   "metadata": {},
   "outputs": [],
   "source": [
    "normalised = mmcci.it.normalise_samples_between_tech([[brain_a_vis_avg, brain_y_vis_avg],\n",
    "                                             [brain_a_sto_avg, brain_y_sto_avg]])"
   ]
  },
  {
   "cell_type": "markdown",
   "id": "611ce360-3c37-45d9-b018-9c732d4867c1",
   "metadata": {},
   "source": [
    "#### Integrate between technologies for both groups"
   ]
  },
  {
   "cell_type": "code",
   "execution_count": null,
   "id": "4acb7004-e2d7-44e8-80dd-dbfc24e7d0e3",
   "metadata": {},
   "outputs": [],
   "source": [
    "normalised = np.array(normalised).T.tolist() # Transpose to get lists of groups instead of techs\n",
    "aged_integrated = mmcci.it.integrate_between_tech(normalised[0])\n",
    "young_integrated = mmcci.it.integrate_between_tech(normalised[1])"
   ]
  },
  {
   "cell_type": "markdown",
   "id": "08ad823f-61a6-42ce-ac41-9cee95721883",
   "metadata": {},
   "source": [
    "#### Calculate overall interactions network per group"
   ]
  },
  {
   "cell_type": "code",
   "execution_count": null,
   "id": "b006ef39-18b8-4df8-a042-f11a840f2d71",
   "metadata": {},
   "outputs": [],
   "source": [
    "aged_overall = mmcci.it.calculate_overall_interactions(aged_integrated)\n",
    "young_overall = mmcci.it.calculate_overall_interactions(young_integrated)"
   ]
  },
  {
   "cell_type": "markdown",
   "id": "899511dc-ebd0-4eb6-ae58-f954635cecbd",
   "metadata": {},
   "source": [
    "#### Rank LR pairs based on dissimilarity between groups"
   ]
  },
  {
   "cell_type": "code",
   "execution_count": null,
   "id": "2cdda303-c94b-4678-a6b6-8bbc51c2cf5a",
   "metadata": {},
   "outputs": [],
   "source": [
    "dissimilarity_scores = mmcci.it.calculate_dissim(aged_integrated, young_integrated)\n",
    "mmcci.plt.dissim_hist(dissimilarity_scores)\n",
    "    \n",
    "## Sort LR Pairs from high to low dissimilarities\n",
    "print(\"Overall Network Aged vs Young Dissimilarity Score is: \" + str(mmcci.sc.dissimilarity_score(aged_overall, young_overall)))\n",
    "\n",
    "sorted_pairs = sorted(dissimilarity_scores, key=dissimilarity_scores.get, reverse=True)\n",
    "print(\"\\nTop 10 Dissimilar LR Pairs:\", sorted_pairs[:10])"
   ]
  },
  {
   "cell_type": "markdown",
   "id": "941e9ae7-cda4-4f78-97b1-4313ff7eaa38",
   "metadata": {},
   "source": [
    "#### Plot highly dissimilar pairs between groups"
   ]
  },
  {
   "cell_type": "code",
   "execution_count": null,
   "id": "5bcaf65c-882a-4a32-b913-943bf8a00854",
   "metadata": {},
   "outputs": [],
   "source": [
    "mmcci.plt.network_plot(aged_integrated['A2m_Lrp1'])\n",
    "mmcci.plt.network_plot(young_integrated['A2m_Lrp1'])"
   ]
  },
  {
   "cell_type": "markdown",
   "id": "c7d04e5c-dcc3-4ff0-a4a3-072d88ef063a",
   "metadata": {},
   "source": [
    "#### Calculate p values for significance changes between groups"
   ]
  },
  {
   "cell_type": "code",
   "execution_count": null,
   "id": "edb95a3f-9207-477f-aa97-f4dde59d82c4",
   "metadata": {},
   "outputs": [],
   "source": [
    "p_values = mmcci.sc.perm_test(aged_overall, young_overall)\n",
    "p_values"
   ]
  },
  {
   "cell_type": "markdown",
   "id": "b3c213b8-42e2-4be7-9f3b-4d81c4e75754",
   "metadata": {},
   "source": [
    "#### Plot aged and young overall networks"
   ]
  },
  {
   "cell_type": "code",
   "execution_count": null,
   "id": "be27f1f4-6fa4-4904-aa32-648c5bb584ba",
   "metadata": {},
   "outputs": [],
   "source": [
    "mmcci.plt.network_plot(aged_overall, p_values)\n",
    "mmcci.plt.network_plot(young_overall, p_values)"
   ]
  },
  {
   "cell_type": "markdown",
   "id": "183f0a6e-e418-47f3-8132-7e3c23c3b8e1",
   "metadata": {},
   "source": [
    "#### Get LR pairs from Vascular to Astrocytes"
   ]
  },
  {
   "cell_type": "code",
   "execution_count": null,
   "id": "8b139d33-d4e8-4549-b939-c347afdbd7d2",
   "metadata": {
    "scrolled": true
   },
   "outputs": [],
   "source": [
    "vasc_astr_lrs = mmcci.it.get_lrs_per_celltype([aged_integrated, young_integrated], \"Vascular\", \"Astrocytes\")\n",
    "print(\"LR pairs from vascular to astrocytes in aged\")\n",
    "print(vasc_astr_lrs['sample1'])\n",
    "print(\"\\nLR pairs from vascular to astrocytes in young\")\n",
    "print(vasc_astr_lrs['sample2'])"
   ]
  },
  {
   "cell_type": "markdown",
   "id": "f883bfa2-2e54-4627-92cd-4919aaf5a008",
   "metadata": {},
   "source": [
    "#### Cluster aged and young lr pairs"
   ]
  },
  {
   "cell_type": "code",
   "execution_count": null,
   "id": "dd57cce3-289d-4395-ac7a-c579db7b9748",
   "metadata": {
    "scrolled": true
   },
   "outputs": [],
   "source": [
    "aged_clusters = mmcci.it.lr_clustering(aged_integrated, n_clusters=0)\n",
    "aged_clusters"
   ]
  },
  {
   "cell_type": "code",
   "execution_count": null,
   "id": "bdea85a8-835c-458a-8f88-cf984747f946",
   "metadata": {},
   "outputs": [],
   "source": [
    "young_clusters = mmcci.it.lr_clustering(young_integrated, n_clusters=0)\n",
    "young_clusters"
   ]
  }
 ],
 "metadata": {
  "kernelspec": {
   "display_name": "Python 3 (ipykernel)",
   "language": "python",
   "name": "python3"
  },
  "language_info": {
   "codemirror_mode": {
    "name": "ipython",
    "version": 3
   },
   "file_extension": ".py",
   "mimetype": "text/x-python",
   "name": "python",
   "nbconvert_exporter": "python",
   "pygments_lexer": "ipython3",
   "version": "3.9.12"
  }
 },
 "nbformat": 4,
 "nbformat_minor": 5
}
